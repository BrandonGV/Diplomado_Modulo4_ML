{
  "cells": [
    {
      "cell_type": "markdown",
      "metadata": {
        "id": "Pt5LG81u3G2n"
      },
      "source": [
        "\n",
        "# Objetivo: Aprender a aplicar regresión lineal para predecir el número de bicicletas alquiladas en un día.\n",
        "===================================================\n",
        "#1. Introducción\n",
        "===================================================\n",
        "\n",
        "Pregunta: ¿Qué tipo de problemas se pueden resolver con regresión lineal?\n",
        "\n",
        "Escribe tu respuesta aquí en un comentario."
      ]
    },
    {
      "cell_type": "markdown",
      "metadata": {
        "id": "P514c-Sb3ngY"
      },
      "source": [
        "#2. Carga de Dataset"
      ]
    },
    {
      "cell_type": "code",
      "execution_count": null,
      "metadata": {
        "id": "vf3H4s0N3tVG"
      },
      "outputs": [],
      "source": [
        "#Importa el/los módulo(s) pandas as pd para usarlos en el análisis.\n",
        "import pandas as pd\n",
        "# Obtiene el dataset de url externa\n",
        "!wget https://raw.githubusercontent.com/MicrosoftDocs/mslearn-introduction-to-machine-learning/main/Data/ml-basics/daily-bike-share.csv\n",
        "# Lee un archivo CSV y lo carga en un DataFrame de Pandas.\n",
        "bike_data = pd.read_csv(\"Nombre archivo\")"
      ]
    },
    {
      "cell_type": "code",
      "execution_count": null,
      "metadata": {
        "id": "EDPHAcce4Ozw"
      },
      "outputs": [],
      "source": [
        "# Muestra las primeras 5 filas del dataset\n",
        "\n",
        "# Muestra información general del dataset\n",
        "\n",
        "# Genera una tabla con la descripción de cada campo y su significado\n",
        "\n",
        "# Pregunta: ¿Qué variable queremos predecir?"
      ]
    },
    {
      "cell_type": "code",
      "execution_count": null,
      "metadata": {
        "id": "57mjQoGy5KFu"
      },
      "outputs": [],
      "source": [
        "# Extrae el día del mes desde la columna de fechas\n",
        "\n",
        "# Muestra las primeras 25 filas del dataset"
      ]
    },
    {
      "cell_type": "markdown",
      "metadata": {
        "id": "5K6g6imO5k2u"
      },
      "source": [
        "#3. Preparación de datos"
      ]
    },
    {
      "cell_type": "code",
      "execution_count": null,
      "metadata": {
        "id": "hHU6Ts595p3n"
      },
      "outputs": [],
      "source": [
        "# Definir las características numéricas relevantes del dataset\n",
        "\n",
        "# Seleccionar la variable objetivo (label)\n",
        "\n",
        "# Mostrar estadísticas descriptivas de las variables numéricas y el objetivo"
      ]
    },
    {
      "cell_type": "markdown",
      "metadata": {
        "id": "kBBZjsl-6jgG"
      },
      "source": [
        "#4.Gráfica de datos"
      ]
    },
    {
      "cell_type": "code",
      "execution_count": null,
      "metadata": {
        "id": "TSBuXb_W6pc0"
      },
      "outputs": [],
      "source": [
        "# TODO: Grafica una dispersión de temperatura vs rentals\n",
        "import matplotlib.pyplot as plt\n",
        "\n",
        "# plt.scatter(bike_data['_____'], bike_data['_____'])\n",
        "# plt.xlabel('_____')\n",
        "# plt.ylabel('_____')\n",
        "# plt.show()\n",
        "\n",
        "# Pregunta: ¿Se observa alguna relación lineal?"
      ]
    },
    {
      "cell_type": "markdown",
      "metadata": {
        "id": "kxKuWknx7lnV"
      },
      "source": [
        "# 4. División en conjuntos de entrenamiento y prueba"
      ]
    },
    {
      "cell_type": "code",
      "execution_count": null,
      "metadata": {
        "id": "0fMOfJEe7mzM"
      },
      "outputs": [],
      "source": [
        "from sklearn.model_selection import train_test_split\n",
        "\n",
        "\n",
        "X = bike_data[\"características numéricas relevantes del dataset\"]\n",
        "y = bike_data[\"variable objetivo (label)\"]\n",
        "\n",
        "\n",
        "# Divide los datos en entrenamiento (70%) y prueba con test_size (30%)\n",
        "# X_train, X_test, y_train, y_test = train_test_split(_____, _____, test_size=___, random_state=0)\n",
        "\n",
        "# Mostrar cuántas filas tiene cada conjunto\n",
        "\n",
        "# Pregunta: ¿Qué pasa si usamos un test_size demasiado pequeño?"
      ]
    },
    {
      "cell_type": "markdown",
      "metadata": {
        "id": "fZqkDA6n8f6S"
      },
      "source": [
        "# 5. Entrenamiento del modelo"
      ]
    },
    {
      "cell_type": "code",
      "execution_count": null,
      "metadata": {
        "id": "XEiGJCg48egM"
      },
      "outputs": [],
      "source": [
        "from sklearn.linear_model import LinearRegression\n",
        "\n",
        "\n",
        "# TODO: Crea y entrena el modelo\n",
        "# model = LinearRegression()\n",
        "# model.fit(_____, _____)\n",
        "\n",
        "\n",
        "# Muestra los coeficientes βn\n",
        "# print(\"Coeficientes:\", model.coef_)\n",
        "# rentals=β0​+β1​⋅temp+β2​⋅atemp+β3​⋅hum+β4​⋅windspeed\n",
        "\n",
        "# Muestra información del modelo entrenado\n",
        "\n",
        "# Pregunta: ¿Cómo interpretas el coeficiente asociado a la temperatura?"
      ]
    },
    {
      "cell_type": "markdown",
      "metadata": {
        "id": "ZFQNGFLQ9esr"
      },
      "source": [
        "# 6. Evaluación del modelo"
      ]
    },
    {
      "cell_type": "code",
      "execution_count": null,
      "metadata": {
        "id": "PL7roNpx9fdC"
      },
      "outputs": [],
      "source": [
        "# Genera predicciones\n",
        "# y_pred = model.predict(_____)\n",
        "\n",
        "\n",
        "# Calcula métrica MSE\n",
        "# mse = mean_squared_error(_____, _____)\n",
        "# print(\"MSE:\", mse)\n",
        "\n",
        "\n",
        "# Grafica valores reales vs predichos\n",
        "# plt.scatter(y_test, y_pred)\n",
        "# plt.xlabel(\"Valores Reales\")\n",
        "# plt.ylabel(\"Predicciones\")\n",
        "# plt.show()\n",
        "\n",
        "\n",
        "# Pregunta: ¿Qué información nos da el MSE sobre la calidad del modelo?\n",
        "# Pregunta: ¿Qué información nos da el RMSE sobre la calidad del modelo?"
      ]
    },
    {
      "cell_type": "markdown",
      "metadata": {
        "id": "4mv5DLFZ907R"
      },
      "source": [
        "# 7. Extensión / Retos"
      ]
    },
    {
      "cell_type": "code",
      "execution_count": null,
      "metadata": {
        "id": "7RPtL-9O91wJ"
      },
      "outputs": [],
      "source": [
        "# Entrena un modelo usando solo la variable 'temp'.\n",
        "# Compara los resultados con el modelo multivariable.\n",
        "\n",
        "\n",
        "# Pregunta: ¿Cuál modelo es más preciso y por qué?"
      ]
    }
  ],
  "metadata": {
    "colab": {
      "provenance": []
    },
    "kernelspec": {
      "display_name": "Python 3",
      "name": "python3"
    },
    "language_info": {
      "name": "python"
    }
  },
  "nbformat": 4,
  "nbformat_minor": 0
}
